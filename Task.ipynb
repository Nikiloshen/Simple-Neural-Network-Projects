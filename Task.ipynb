{
  "nbformat": 4,
  "nbformat_minor": 0,
  "metadata": {
    "colab": {
      "provenance": [],
      "authorship_tag": "ABX9TyPPjyfkSDohtBpRNaLh4Z3x",
      "include_colab_link": true
    },
    "kernelspec": {
      "name": "python3",
      "display_name": "Python 3"
    },
    "language_info": {
      "name": "python"
    }
  },
  "cells": [
    {
      "cell_type": "markdown",
      "metadata": {
        "id": "view-in-github",
        "colab_type": "text"
      },
      "source": [
        "<a href=\"https://colab.research.google.com/github/Nikiloshen/Simple-Neural-Network-Projects/blob/main/Task.ipynb\" target=\"_parent\"><img src=\"https://colab.research.google.com/assets/colab-badge.svg\" alt=\"Open In Colab\"/></a>"
      ]
    },
    {
      "cell_type": "code",
      "execution_count": 1,
      "metadata": {
        "id": "4VjiMNBDow4-"
      },
      "outputs": [],
      "source": [
        "!pip install -q kaggle"
      ]
    },
    {
      "cell_type": "code",
      "source": [
        "from google.colab import files\n",
        "\n",
        "files.upload()"
      ],
      "metadata": {
        "colab": {
          "base_uri": "https://localhost:8080/",
          "height": 91
        },
        "id": "VhL4a6ripegd",
        "outputId": "f727a318-6269-4d7d-d1d6-90e65df9db20"
      },
      "execution_count": 2,
      "outputs": [
        {
          "output_type": "display_data",
          "data": {
            "text/plain": [
              "<IPython.core.display.HTML object>"
            ],
            "text/html": [
              "\n",
              "     <input type=\"file\" id=\"files-831c29a5-2aa8-4d52-9759-339660b252b9\" name=\"files[]\" multiple disabled\n",
              "        style=\"border:none\" />\n",
              "     <output id=\"result-831c29a5-2aa8-4d52-9759-339660b252b9\">\n",
              "      Upload widget is only available when the cell has been executed in the\n",
              "      current browser session. Please rerun this cell to enable.\n",
              "      </output>\n",
              "      <script>// Copyright 2017 Google LLC\n",
              "//\n",
              "// Licensed under the Apache License, Version 2.0 (the \"License\");\n",
              "// you may not use this file except in compliance with the License.\n",
              "// You may obtain a copy of the License at\n",
              "//\n",
              "//      http://www.apache.org/licenses/LICENSE-2.0\n",
              "//\n",
              "// Unless required by applicable law or agreed to in writing, software\n",
              "// distributed under the License is distributed on an \"AS IS\" BASIS,\n",
              "// WITHOUT WARRANTIES OR CONDITIONS OF ANY KIND, either express or implied.\n",
              "// See the License for the specific language governing permissions and\n",
              "// limitations under the License.\n",
              "\n",
              "/**\n",
              " * @fileoverview Helpers for google.colab Python module.\n",
              " */\n",
              "(function(scope) {\n",
              "function span(text, styleAttributes = {}) {\n",
              "  const element = document.createElement('span');\n",
              "  element.textContent = text;\n",
              "  for (const key of Object.keys(styleAttributes)) {\n",
              "    element.style[key] = styleAttributes[key];\n",
              "  }\n",
              "  return element;\n",
              "}\n",
              "\n",
              "// Max number of bytes which will be uploaded at a time.\n",
              "const MAX_PAYLOAD_SIZE = 100 * 1024;\n",
              "\n",
              "function _uploadFiles(inputId, outputId) {\n",
              "  const steps = uploadFilesStep(inputId, outputId);\n",
              "  const outputElement = document.getElementById(outputId);\n",
              "  // Cache steps on the outputElement to make it available for the next call\n",
              "  // to uploadFilesContinue from Python.\n",
              "  outputElement.steps = steps;\n",
              "\n",
              "  return _uploadFilesContinue(outputId);\n",
              "}\n",
              "\n",
              "// This is roughly an async generator (not supported in the browser yet),\n",
              "// where there are multiple asynchronous steps and the Python side is going\n",
              "// to poll for completion of each step.\n",
              "// This uses a Promise to block the python side on completion of each step,\n",
              "// then passes the result of the previous step as the input to the next step.\n",
              "function _uploadFilesContinue(outputId) {\n",
              "  const outputElement = document.getElementById(outputId);\n",
              "  const steps = outputElement.steps;\n",
              "\n",
              "  const next = steps.next(outputElement.lastPromiseValue);\n",
              "  return Promise.resolve(next.value.promise).then((value) => {\n",
              "    // Cache the last promise value to make it available to the next\n",
              "    // step of the generator.\n",
              "    outputElement.lastPromiseValue = value;\n",
              "    return next.value.response;\n",
              "  });\n",
              "}\n",
              "\n",
              "/**\n",
              " * Generator function which is called between each async step of the upload\n",
              " * process.\n",
              " * @param {string} inputId Element ID of the input file picker element.\n",
              " * @param {string} outputId Element ID of the output display.\n",
              " * @return {!Iterable<!Object>} Iterable of next steps.\n",
              " */\n",
              "function* uploadFilesStep(inputId, outputId) {\n",
              "  const inputElement = document.getElementById(inputId);\n",
              "  inputElement.disabled = false;\n",
              "\n",
              "  const outputElement = document.getElementById(outputId);\n",
              "  outputElement.innerHTML = '';\n",
              "\n",
              "  const pickedPromise = new Promise((resolve) => {\n",
              "    inputElement.addEventListener('change', (e) => {\n",
              "      resolve(e.target.files);\n",
              "    });\n",
              "  });\n",
              "\n",
              "  const cancel = document.createElement('button');\n",
              "  inputElement.parentElement.appendChild(cancel);\n",
              "  cancel.textContent = 'Cancel upload';\n",
              "  const cancelPromise = new Promise((resolve) => {\n",
              "    cancel.onclick = () => {\n",
              "      resolve(null);\n",
              "    };\n",
              "  });\n",
              "\n",
              "  // Wait for the user to pick the files.\n",
              "  const files = yield {\n",
              "    promise: Promise.race([pickedPromise, cancelPromise]),\n",
              "    response: {\n",
              "      action: 'starting',\n",
              "    }\n",
              "  };\n",
              "\n",
              "  cancel.remove();\n",
              "\n",
              "  // Disable the input element since further picks are not allowed.\n",
              "  inputElement.disabled = true;\n",
              "\n",
              "  if (!files) {\n",
              "    return {\n",
              "      response: {\n",
              "        action: 'complete',\n",
              "      }\n",
              "    };\n",
              "  }\n",
              "\n",
              "  for (const file of files) {\n",
              "    const li = document.createElement('li');\n",
              "    li.append(span(file.name, {fontWeight: 'bold'}));\n",
              "    li.append(span(\n",
              "        `(${file.type || 'n/a'}) - ${file.size} bytes, ` +\n",
              "        `last modified: ${\n",
              "            file.lastModifiedDate ? file.lastModifiedDate.toLocaleDateString() :\n",
              "                                    'n/a'} - `));\n",
              "    const percent = span('0% done');\n",
              "    li.appendChild(percent);\n",
              "\n",
              "    outputElement.appendChild(li);\n",
              "\n",
              "    const fileDataPromise = new Promise((resolve) => {\n",
              "      const reader = new FileReader();\n",
              "      reader.onload = (e) => {\n",
              "        resolve(e.target.result);\n",
              "      };\n",
              "      reader.readAsArrayBuffer(file);\n",
              "    });\n",
              "    // Wait for the data to be ready.\n",
              "    let fileData = yield {\n",
              "      promise: fileDataPromise,\n",
              "      response: {\n",
              "        action: 'continue',\n",
              "      }\n",
              "    };\n",
              "\n",
              "    // Use a chunked sending to avoid message size limits. See b/62115660.\n",
              "    let position = 0;\n",
              "    do {\n",
              "      const length = Math.min(fileData.byteLength - position, MAX_PAYLOAD_SIZE);\n",
              "      const chunk = new Uint8Array(fileData, position, length);\n",
              "      position += length;\n",
              "\n",
              "      const base64 = btoa(String.fromCharCode.apply(null, chunk));\n",
              "      yield {\n",
              "        response: {\n",
              "          action: 'append',\n",
              "          file: file.name,\n",
              "          data: base64,\n",
              "        },\n",
              "      };\n",
              "\n",
              "      let percentDone = fileData.byteLength === 0 ?\n",
              "          100 :\n",
              "          Math.round((position / fileData.byteLength) * 100);\n",
              "      percent.textContent = `${percentDone}% done`;\n",
              "\n",
              "    } while (position < fileData.byteLength);\n",
              "  }\n",
              "\n",
              "  // All done.\n",
              "  yield {\n",
              "    response: {\n",
              "      action: 'complete',\n",
              "    }\n",
              "  };\n",
              "}\n",
              "\n",
              "scope.google = scope.google || {};\n",
              "scope.google.colab = scope.google.colab || {};\n",
              "scope.google.colab._files = {\n",
              "  _uploadFiles,\n",
              "  _uploadFilesContinue,\n",
              "};\n",
              "})(self);\n",
              "</script> "
            ]
          },
          "metadata": {}
        },
        {
          "output_type": "stream",
          "name": "stdout",
          "text": [
            "Saving kaggle.json to kaggle.json\n"
          ]
        },
        {
          "output_type": "execute_result",
          "data": {
            "text/plain": [
              "{'kaggle.json': b'{\"username\":\"nikiloshen\",\"key\":\"ab690f0f3688504e71f71502e69db094\"}'}"
            ]
          },
          "metadata": {},
          "execution_count": 2
        }
      ]
    },
    {
      "cell_type": "code",
      "source": [
        "!mkdir /root/.kaggle\n",
        "\n",
        "!cp kaggle.json ~/.kaggle/"
      ],
      "metadata": {
        "id": "uUHn_elCqfbE"
      },
      "execution_count": 8,
      "outputs": []
    },
    {
      "cell_type": "code",
      "source": [
        "!chmod 600 ~/.kaggle/kaggle.json"
      ],
      "metadata": {
        "id": "J6ipkPAfszA9"
      },
      "execution_count": 9,
      "outputs": []
    },
    {
      "cell_type": "code",
      "source": [
        "!kaggle competitions download -c int20h_test_2025"
      ],
      "metadata": {
        "colab": {
          "base_uri": "https://localhost:8080/"
        },
        "id": "996E20KDpvjc",
        "outputId": "8a84b4f7-4b9f-4cb0-db65-d0ea2207c904"
      },
      "execution_count": 10,
      "outputs": [
        {
          "output_type": "stream",
          "name": "stdout",
          "text": [
            "Downloading int20h_test_2025.zip to /content\n",
            "100% 12.4G/12.4G [01:36<00:00, 222MB/s]\n",
            "100% 12.4G/12.4G [01:37<00:00, 136MB/s]\n"
          ]
        }
      ]
    },
    {
      "cell_type": "code",
      "source": [
        "!unzip int20h_test_2025.zip"
      ],
      "metadata": {
        "colab": {
          "base_uri": "https://localhost:8080/"
        },
        "id": "jLDDrYmypvl-",
        "outputId": "bb67260b-7a27-432c-d6f6-49b9cc046177"
      },
      "execution_count": 11,
      "outputs": [
        {
          "output_type": "stream",
          "name": "stdout",
          "text": [
            "Archive:  int20h_test_2025.zip\n",
            "  inflating: test.csv                \n",
            "  inflating: train.csv               \n"
          ]
        }
      ]
    },
    {
      "cell_type": "code",
      "source": [
        "import pandas as pd\n",
        "df_train_csv = pd.read_csv('/content/train.csv', nrows=1500000)\n",
        "df_test_csv = pd.read_csv('/content/test.csv', nrows=20000)\n",
        "\n",
        "df_train = pd.DataFrame(df_train_csv)\n",
        "df_test = pd.DataFrame(df_test_csv)"
      ],
      "metadata": {
        "id": "M-mSscO1pvod",
        "colab": {
          "base_uri": "https://localhost:8080/"
        },
        "outputId": "6a867dcd-4e96-46d9-bd4d-7f62b56b3d77"
      },
      "execution_count": 582,
      "outputs": [
        {
          "output_type": "stream",
          "name": "stderr",
          "text": [
            "<ipython-input-582-be35b296c56e>:2: DtypeWarning: Columns (24,33) have mixed types. Specify dtype option on import or set low_memory=False.\n",
            "  df_train_csv = pd.read_csv('/content/train.csv', nrows=1500000)\n"
          ]
        }
      ]
    },
    {
      "cell_type": "code",
      "source": [
        "import numpy as np\n",
        "from sklearn.metrics import confusion_matrix, balanced_accuracy_score, precision_score, average_precision_score, \\\n",
        "    recall_score, f1_score, roc_auc_score, accuracy_score\n",
        "from sklearn.metrics import precision_recall_curve, roc_curve, auc\n",
        "import matplotlib.pyplot as plt\n",
        "\n",
        "# Utility function for model evaluation\n",
        "def calculate_classification_metrics(\n",
        "    y_true: np.ndarray, y_pred: np.ndarray, threshold: float, log: bool = False\n",
        ") -> dict:\n",
        "    \"\"\"\n",
        "    Calculate and print classification metrics for a binary classification model.\n",
        "    Parameters\n",
        "    ----------\n",
        "    y_true - true labels\n",
        "    y_pred - predicted probabilities\n",
        "    threshold - threshold for converting probabilities to binary predictions\n",
        "    log - whether to print the metrics\n",
        "\n",
        "    Returns\n",
        "    -------\n",
        "    dict - dictionary with classification metrics\n",
        "    \"\"\"\n",
        "    binary_predictions = (y_pred > threshold).astype(bool)\n",
        "    conf_matrix = confusion_matrix(y_true, binary_predictions)\n",
        "\n",
        "\n",
        "    # This is the main evaluation metric you should maximize\n",
        "    # PR AUC score (area under the Precision-Recall curve)\n",
        "    prauc = average_precision_score(y_true, y_pred)\n",
        "\n",
        "    balanced_accuracy = balanced_accuracy_score(y_true, binary_predictions)\n",
        "\n",
        "    # Precision (fraction of model's positive predictions that actually belong to the positive class) = TP / (TP + FP)\n",
        "    precision = precision_score(y_true, binary_predictions)\n",
        "\n",
        "    # Weighted mean of precisions achieved at each threshold\n",
        "    weighted_precision = average_precision_score(y_true, binary_predictions)\n",
        "\n",
        "    # Recall (fraction of the positive predictions out of all the positive instances) = TP / (TP + FN)\n",
        "    recall = recall_score(y_true, binary_predictions)\n",
        "\n",
        "    # F1 score (weighted average of precision and recall)\n",
        "    f1 = f1_score(y_true, binary_predictions)\n",
        "\n",
        "\n",
        "    # ROC AUC score (area under the ROC curve)\n",
        "    rocauc = roc_auc_score(y_true, y_pred)\n",
        "\n",
        "    # Accuracy (fraction of correct predictions)\n",
        "    accuracy = accuracy_score(y_true, binary_predictions)\n",
        "\n",
        "\n",
        "    if log:\n",
        "        print(\"\\t! PR AUC score:\", prauc)\n",
        "\n",
        "        # helper metrics\n",
        "        print(\"Confusion matrix:\\n\", conf_matrix)\n",
        "        print(\"\\tBalanced Accuracy:\", balanced_accuracy)\n",
        "        print(\"\\tPrecision:\", precision)\n",
        "        print(\"\\tWeighed precision:\", weighted_precision)\n",
        "        print(\"\\t F1:\", f1)\n",
        "        print(\"\\t Recall:\", recall)\n",
        "        print(\"\\t ROC AUC score:\", rocauc)\n",
        "        print(\"\\t Accuracy:\", accuracy)\n",
        "\n",
        "\n",
        "    return {\n",
        "        \"true_positives\": conf_matrix[1, 1],\n",
        "        \"true_negatives\": conf_matrix[0, 0],\n",
        "        \"false_positives\": conf_matrix[0, 1],\n",
        "        \"false_negatives\": conf_matrix[1, 0],\n",
        "        \"balanced_accuracy\": balanced_accuracy,\n",
        "        \"precision\": precision,\n",
        "        \"weighted_precision\": weighted_precision,\n",
        "        \"recall\": recall,\n",
        "        \"f1\": f1,\n",
        "        \"rocauc\": rocauc,\n",
        "        \"prauc\": prauc,\n",
        "        \"accuracy\": accuracy,\n",
        "    }"
      ],
      "metadata": {
        "id": "NDyzaDmsqlaj"
      },
      "execution_count": 583,
      "outputs": []
    },
    {
      "cell_type": "code",
      "source": [
        "def drop_columns(df, columns):\n",
        "    for column in columns:\n",
        "        df = df.drop(column, axis=1)\n",
        "    return df"
      ],
      "metadata": {
        "id": "xcd4cB6J-PJY"
      },
      "execution_count": 584,
      "outputs": []
    },
    {
      "cell_type": "code",
      "source": [
        "columns = ['merchant_city', 'merchant_language', 'device', 'bank', 'merchant_country', 'cardcountry', 'merchant_shop_name', 'card_exp_relative', 'transaction_source', 'merchant_shop_id', 'merchant_id', 'merchant_customer_last_name', 'merchant_customer_first_name', 'created_at', 'currency_amount', 'currency_id', 'transaction_id', 'traffic_source', 'merchant_customer_id', 'bin', 'user_agent', 'merchant_customer_email', 'ip_address', 'order_number', 'ip_country', 'browser', 'browser_version', 'operating_system', 'operating_system_version', 'card_id', 'card_holder_first_name', 'card_holder_last_name']\n",
        "drop_df_train = drop_columns(df_train, columns)\n",
        "drop_df_test = drop_columns(df_test, columns)"
      ],
      "metadata": {
        "id": "syaUvQRo_edC"
      },
      "execution_count": 585,
      "outputs": []
    },
    {
      "cell_type": "code",
      "source": [
        "drop_df_train['merchant_customer_phone'] = drop_df_train['merchant_customer_phone'].notna().astype(int)\n",
        "drop_df_train['is_verified'] = drop_df_train['is_verified'].notna().astype(int)\n",
        "drop_df_test['merchant_customer_phone'] = drop_df_test['merchant_customer_phone'].notna().astype(int)\n",
        "drop_df_test['is_verified'] = drop_df_test['is_verified'].notna().astype(int)"
      ],
      "metadata": {
        "id": "LD5N3rOoAORg"
      },
      "execution_count": 586,
      "outputs": []
    },
    {
      "cell_type": "code",
      "source": [
        "drop_df_train['payment_type'] = drop_df_train['payment_type'].fillna('Unknown')\n",
        "drop_df_train['cardbrand'] = drop_df_train['cardbrand'].fillna('Unknown')\n",
        "drop_df_train['cardtype'] = drop_df_train['cardtype'].fillna('Unknown')\n",
        "\n",
        "drop_df_test['payment_type'] = drop_df_test['payment_type'].fillna('Unknown')\n",
        "drop_df_test['cardbrand'] = drop_df_test['cardbrand'].fillna('Unknown')\n",
        "drop_df_test['cardtype'] = drop_df_test['cardtype'].fillna('Unknown')\n",
        "\n",
        "df_train = pd.get_dummies(drop_df_train, columns=['payment_type', 'cardbrand', 'cardtype'], dtype=int)\n",
        "df_test = pd.get_dummies(drop_df_test, columns=['payment_type', 'cardbrand', 'cardtype'], dtype=int)"
      ],
      "metadata": {
        "id": "3TtHgbptfHZy"
      },
      "execution_count": 587,
      "outputs": []
    },
    {
      "cell_type": "code",
      "source": [
        "df_train['platform'] = df_train['platform'].replace({'App': 'MOBILE', 'APP': 'MOBILE', 'MOB': 'MOBILE',\n",
        "                                         'Web': 'WEB', 'WEB': 'WEB'})\n",
        "df_test['platform'] = df_test['platform'].replace({'App': 'MOBILE', 'APP': 'MOBILE', 'MOB': 'MOBILE',\n",
        "                                         'Web': 'WEB', 'WEB': 'WEB'})"
      ],
      "metadata": {
        "id": "AiElF1Y7lfKT"
      },
      "execution_count": 588,
      "outputs": []
    },
    {
      "cell_type": "code",
      "source": [
        "df_train['is_secured'] = df_train['is_secured'].astype(int)\n",
        "df_train['is_subscription'] = df_train['is_subscription'].astype(int)\n",
        "df_test['is_secured'] = df_test['is_secured'].astype(int)\n",
        "df_test['is_subscription'] = df_test['is_subscription'].astype(int)"
      ],
      "metadata": {
        "id": "2GDvWJ-5kyq-"
      },
      "execution_count": 589,
      "outputs": []
    },
    {
      "cell_type": "code",
      "source": [
        "df_train['platform'] = df_train['platform'].map({'MOBILE': 1, 'WEB': 0})\n",
        "df_test['platform'] = df_test['platform'].map({'MOBILE': 1, 'WEB': 0})\n",
        "df_train['platform'] = df_train['platform'].fillna(0)\n",
        "df_test['platform'] = df_test['platform'].fillna(0)\n",
        "df_train['transaction_type'] = df_train['transaction_type'].map({'first': 1, 'token': 0})\n",
        "df_test['transaction_type'] = df_test['transaction_type'].map({'first': 1, 'token': 0})"
      ],
      "metadata": {
        "id": "gtUZxWe7mGNM"
      },
      "execution_count": 590,
      "outputs": []
    },
    {
      "cell_type": "code",
      "source": [
        "from sklearn.preprocessing import StandardScaler\n",
        "\n",
        "scaler = StandardScaler()\n",
        "numeric_cols = ['amount_scaled']\n",
        "df_train[numeric_cols] = scaler.fit_transform(df_train[numeric_cols])\n",
        "df_test[numeric_cols] = scaler.transform(df_test[numeric_cols])"
      ],
      "metadata": {
        "id": "VNoDmV4OmuIx"
      },
      "execution_count": 591,
      "outputs": []
    },
    {
      "cell_type": "code",
      "source": [
        "from sklearn.model_selection import train_test_split\n",
        "\n",
        "X_train = df_train.drop(columns=['is_fraud'])\n",
        "y_train = df_train['is_fraud']\n",
        "\n",
        "X_train, X_test, y_train, y_test = train_test_split(X_train, y_train, test_size=0.3, random_state=42, stratify=y_train)"
      ],
      "metadata": {
        "id": "2L4Yu151nuSi"
      },
      "execution_count": 592,
      "outputs": []
    },
    {
      "cell_type": "code",
      "source": [
        "# import numpy as np\n",
        "\n",
        "# class_0_weight = 1 / (len(y_train) / np.sum(y_train == 0))\n",
        "# class_1_weight = 1 / (len(y_train) / np.sum(y_train == 1))\n",
        "\n",
        "# class_weights = {0: class_0_weight, 1: class_1_weight}\n",
        "\n",
        "# print(f\"Weight for class 0: {class_0_weight:.2f}\")\n",
        "# print(f\"Weight for class 1: {class_1_weight:.2f}\")"
      ],
      "metadata": {
        "colab": {
          "base_uri": "https://localhost:8080/"
        },
        "id": "EC-ETQgo4yRl",
        "outputId": "cbbde070-3ab0-4f0c-f4e9-37a4bbce961b"
      },
      "execution_count": 465,
      "outputs": [
        {
          "output_type": "stream",
          "name": "stdout",
          "text": [
            "Weight for class 0: 0.97\n",
            "Weight for class 1: 0.03\n"
          ]
        }
      ]
    },
    {
      "cell_type": "code",
      "source": [
        "# from sklearn.model_selection import GridSearchCV\n",
        "# import lightgbm as lgb\n",
        "\n",
        "# param_grid = {\n",
        "#     'n_estimators': [100, 300, 512],\n",
        "#     'class_weight': ['balanced'],\n",
        "#     'learning_rate': [0.01, 0.05, 0.1],\n",
        "#     'max_depth': [3, 6, 9],\n",
        "# }\n",
        "\n",
        "# grid_search = GridSearchCV(estimator=lgb.LGBMClassifier(),\n",
        "#                            param_grid=param_grid,\n",
        "#                            cv=3,\n",
        "#                            n_jobs=-1,\n",
        "#                            scoring='f1_macro')\n",
        "\n",
        "# grid_search.fit(X_train, y_train)\n",
        "\n",
        "# print(grid_search.best_params_)"
      ],
      "metadata": {
        "colab": {
          "base_uri": "https://localhost:8080/"
        },
        "id": "iMxtu1F8nuIy",
        "outputId": "00341e40-f491-4028-b195-7d13e358cb2f"
      },
      "execution_count": 445,
      "outputs": [
        {
          "output_type": "stream",
          "name": "stdout",
          "text": [
            "[LightGBM] [Warning] Found whitespace in feature_names, replace with underlines\n",
            "[LightGBM] [Info] Number of positive: 2399, number of negative: 67601\n",
            "[LightGBM] [Info] Auto-choosing row-wise multi-threading, the overhead of testing was 0.009849 seconds.\n",
            "You can set `force_row_wise=true` to remove the overhead.\n",
            "And if memory is not enough, you can set `force_col_wise=true`.\n",
            "[LightGBM] [Info] Total Bins 299\n",
            "[LightGBM] [Info] Number of data points in the train set: 70000, number of used features: 23\n",
            "[LightGBM] [Info] [binary:BoostFromScore]: pavg=0.500000 -> initscore=0.000000\n",
            "[LightGBM] [Info] Start training from score 0.000000\n",
            "{'class_weight': 'balanced', 'learning_rate': 0.1, 'max_depth': 9, 'n_estimators': 300}\n"
          ]
        }
      ]
    },
    {
      "cell_type": "markdown",
      "source": [
        "**best model so far: LGBMClassifier; class_weight: balanced, lr:0.1, max_depth:9, n_estimators:300.**"
      ],
      "metadata": {
        "id": "ZOifqUPD6GT9"
      }
    },
    {
      "cell_type": "code",
      "source": [
        "import lightgbm as lgb\n",
        "\n",
        "model = lgb.LGBMClassifier(learning_rate=0.1, max_depth=10, n_estimators=1000, n_jobs=-1, class_weight='balanced')"
      ],
      "metadata": {
        "id": "J-qAZPBn6Nud"
      },
      "execution_count": 622,
      "outputs": []
    },
    {
      "cell_type": "code",
      "source": [
        "model.fit(X_train, y_train)\n",
        "\n",
        "y_pred_probs = model.predict_proba(X_test)[:, 1]"
      ],
      "metadata": {
        "colab": {
          "base_uri": "https://localhost:8080/"
        },
        "id": "GRENLNNk0Ja0",
        "outputId": "ebb7ba5d-b225-43ce-8ea7-7119d2641709"
      },
      "execution_count": 623,
      "outputs": [
        {
          "output_type": "stream",
          "name": "stdout",
          "text": [
            "[LightGBM] [Warning] Found whitespace in feature_names, replace with underlines\n",
            "[LightGBM] [Info] Number of positive: 41572, number of negative: 1008428\n",
            "[LightGBM] [Info] Auto-choosing row-wise multi-threading, the overhead of testing was 0.110970 seconds.\n",
            "You can set `force_row_wise=true` to remove the overhead.\n",
            "And if memory is not enough, you can set `force_col_wise=true`.\n",
            "[LightGBM] [Info] Total Bins 316\n",
            "[LightGBM] [Info] Number of data points in the train set: 1050000, number of used features: 31\n",
            "[LightGBM] [Info] [binary:BoostFromScore]: pavg=0.500000 -> initscore=-0.000000\n",
            "[LightGBM] [Info] Start training from score -0.000000\n"
          ]
        }
      ]
    },
    {
      "cell_type": "code",
      "source": [
        "metrics = calculate_classification_metrics(y_test, y_pred_probs, threshold=0.74, log=True)"
      ],
      "metadata": {
        "colab": {
          "base_uri": "https://localhost:8080/"
        },
        "id": "P6aDdwwFx469",
        "outputId": "f50a9ae4-7fab-45a2-f110-30a6e443a6e8"
      },
      "execution_count": 627,
      "outputs": [
        {
          "output_type": "stream",
          "name": "stdout",
          "text": [
            "\t! PR AUC score: 0.16265280479016442\n",
            "Confusion matrix:\n",
            " [[413152  19031]\n",
            " [ 13297   4520]]\n",
            "\tBalanced Accuracy: 0.6048278542922976\n",
            "\tPrecision: 0.19192390981274682\n",
            "\tWeighed precision: 0.07823812233748381\n",
            "\t F1: 0.21852639721523884\n",
            "\t Recall: 0.2536902957849245\n",
            "\t ROC AUC score: 0.7657143685050367\n",
            "\t Accuracy: 0.92816\n"
          ]
        }
      ]
    },
    {
      "cell_type": "markdown",
      "source": [
        "0.2185"
      ],
      "metadata": {
        "id": "ZAq69AaA-iWu"
      }
    },
    {
      "cell_type": "code",
      "source": [
        "precision, recall, _ = precision_recall_curve(y_test, y_pred_probs)\n",
        "\n",
        "fpr, tpr, _ = roc_curve(y_test, y_pred_probs)\n",
        "\n",
        "roc_auc = auc(fpr, tpr)\n",
        "\n",
        "plt.figure(figsize=(12, 6))\n",
        "\n",
        "# Subplot for Precision-Recall curve\n",
        "plt.subplot(1, 2, 1)\n",
        "plt.plot(\n",
        "    recall,\n",
        "    precision,\n",
        "    color=\"b\",\n",
        "    label=f\"Precision-Recall curve (AUC = {auc(recall, precision):.2f})\",\n",
        ")\n",
        "plt.xlabel(\"Recall\")\n",
        "plt.ylabel(\"Precision\")\n",
        "plt.title(\"Precision-Recall Curve for test set\")\n",
        "plt.legend(loc=\"lower left\")\n",
        "\n",
        "# Subplot for ROC curve\n",
        "plt.subplot(1, 2, 2)\n",
        "plt.plot(fpr, tpr, color=\"r\", label=f\"ROC curve (AUC = {roc_auc:.2f})\")\n",
        "plt.plot(\n",
        "    [0, 1], [0, 1], color=\"black\", linestyle=\"--\"\n",
        ")  # Diagonal line (random classifier)\n",
        "plt.xlabel(\"False Positive Rate\")\n",
        "plt.ylabel(\"True Positive Rate\")\n",
        "plt.title(\"ROC Curve for test set\")\n",
        "plt.legend(loc=\"lower right\")\n",
        "\n",
        "plt.tight_layout()\n",
        "plt.show()\n",
        "\n",
        "print(f\"ROC AUC: {roc_auc:.3f}\")\n",
        "print(f\"Precision-Recall AUC: {auc(recall, precision):.2f}\")"
      ],
      "metadata": {
        "colab": {
          "base_uri": "https://localhost:8080/",
          "height": 644
        },
        "id": "k5F8pXLCnuGK",
        "outputId": "b0dbea4f-f8ea-4650-db63-4d97e245db32"
      },
      "execution_count": 628,
      "outputs": [
        {
          "output_type": "display_data",
          "data": {
            "text/plain": [
              "<Figure size 1200x600 with 2 Axes>"
            ],
            "image/png": "[encoded data removed]"
          },
          "metadata": {}
        },
        {
          "output_type": "stream",
          "name": "stdout",
          "text": [
            "ROC AUC: 0.766\n",
            "Precision-Recall AUC: 0.16\n"
          ]
        }
      ]
    },
    {
      "cell_type": "code",
      "source": [],
      "metadata": {
        "id": "uF0XpTkUnuD0"
      },
      "execution_count": null,
      "outputs": []
    },
    {
      "cell_type": "code",
      "source": [],
      "metadata": {
        "id": "23djp6RlnuBc"
      },
      "execution_count": null,
      "outputs": []
    },
    {
      "cell_type": "code",
      "source": [],
      "metadata": {
        "id": "WuVrZihtnt_K"
      },
      "execution_count": null,
      "outputs": []
    }
  ]
}